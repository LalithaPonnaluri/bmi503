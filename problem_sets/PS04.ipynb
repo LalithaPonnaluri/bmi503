{
 "cells": [
  {
   "cell_type": "markdown",
   "metadata": {},
   "source": [
    "# Problem set 04 (40 points)\n",
    "---"
   ]
  },
  {
   "cell_type": "markdown",
   "metadata": {},
   "source": [
    "## Problem 01 (8 points)\n",
    "\n",
    "Create your own function that calculates the sensitivity and specificity for a given confusion matrix. The inputs should be true positives, false postiives, true negatives, and false negatives. The outputs should be sensivity and specificity. This function should print the calculated sensitivity and specicity as well as return both values.\n",
    "\n",
    "Name the function sens_and_spec and have the inputs as positional arugments in the order: tp, fp, tn, fn."
   ]
  },
  {
   "cell_type": "code",
   "execution_count": null,
   "metadata": {},
   "outputs": [],
   "source": [
    "# Write code here.\n"
   ]
  },
  {
   "cell_type": "code",
   "execution_count": null,
   "metadata": {},
   "outputs": [],
   "source": [
    "# Test\n",
    "sens_and_spec(300,30,250,70)"
   ]
  },
  {
   "cell_type": "markdown",
   "metadata": {},
   "source": [
    "## Problem 02 (8 points)\n",
    "\n",
    "Create your own function that calculates the precision and recall for a given confusion matrix. The inputs should be true positives, false postiives, true negatives, and false negatives. The outputs should be precision and recall. This function should print the calculated precision and recall as well as return both values.\n",
    "\n",
    "Name the function prec_and_recall and have the inputs as positional arugments in the order: tp, fp, tn, fn."
   ]
  },
  {
   "cell_type": "code",
   "execution_count": null,
   "metadata": {},
   "outputs": [],
   "source": [
    "# Write code here.\n"
   ]
  },
  {
   "cell_type": "code",
   "execution_count": null,
   "metadata": {},
   "outputs": [],
   "source": [
    "# Test\n",
    "prec_and_recall(300,30,250,70)"
   ]
  },
  {
   "cell_type": "markdown",
   "metadata": {},
   "source": [
    "## Problem 03 (4 points)\n",
    "\n",
    "Create your own function to calculate the F1 score for a given precision and recall. The inputs should be preicions and recall. The output should be F1 score. This function should print the calculated F1 score as well as return the f1 score value.\n",
    "\n",
    "Name the function f1_score and have the inputs as positional arugments in the order: precision, recall."
   ]
  },
  {
   "cell_type": "code",
   "execution_count": null,
   "metadata": {},
   "outputs": [],
   "source": [
    "# Write code here.\n"
   ]
  },
  {
   "cell_type": "code",
   "execution_count": null,
   "metadata": {},
   "outputs": [],
   "source": [
    "# Test\n",
    "f1_score(0.909,0.811)"
   ]
  },
  {
   "cell_type": "markdown",
   "metadata": {},
   "source": [
    "## Problem 04 (15 points)\n",
    "Create a logistic regression model using the data found in PS04-stroke.csv. \n",
    "\n",
    "- Use \"stroke\" as the label and the following variables as the features: gender, age, hypertension, heart_disease, ever_married, work_type, Residence_type, avg_glucose_level, bmi, smoking_status. \n",
    "- You will have to make all variables usable by the model (no strings). \n",
    "- Drop all patients with NaN values and those with \"Unknown\" smoking status. \n",
    "- Use an 80/20 training/testing split."
   ]
  },
  {
   "cell_type": "code",
   "execution_count": null,
   "metadata": {},
   "outputs": [],
   "source": [
    "# Write code here.\n"
   ]
  },
  {
   "cell_type": "markdown",
   "metadata": {},
   "source": [
    "## Problem 05 (5 points)\n",
    "Once your model is trained, use the functions you created in Problem 01-03 to assess the performance of your model."
   ]
  },
  {
   "cell_type": "code",
   "execution_count": null,
   "metadata": {},
   "outputs": [],
   "source": [
    "# Write code here.\n"
   ]
  }
 ],
 "metadata": {
  "kernelspec": {
   "display_name": "Python 3",
   "language": "python",
   "name": "python3"
  },
  "language_info": {
   "codemirror_mode": {
    "name": "ipython",
    "version": 3
   },
   "file_extension": ".py",
   "mimetype": "text/x-python",
   "name": "python",
   "nbconvert_exporter": "python",
   "pygments_lexer": "ipython3",
   "version": "3.8.5"
  }
 },
 "nbformat": 4,
 "nbformat_minor": 4
}
