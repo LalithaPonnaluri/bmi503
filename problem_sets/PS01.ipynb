{
 "cells": [
  {
   "cell_type": "markdown",
   "metadata": {
    "editable": false
   },
   "source": [
    "# Problem Set 01\n",
    "---\n",
    "Worth a total of 30 points. Please follow ALL directions."
   ]
  },
  {
   "cell_type": "markdown",
   "metadata": {
    "editable": false
   },
   "source": [
    "## Problem 01 (3 points)\n",
    "Cast the following variables to make them into the desired data type. Print each variable as the correct data type.\n",
    "\n",
    "1. x needs to be float\n",
    "2. y needs to be string\n",
    "3. z needs to be int\n",
    "\n",
    "Each correct variable worth 1 point."
   ]
  },
  {
   "cell_type": "code",
   "execution_count": null,
   "metadata": {
    "editable": false
   },
   "outputs": [],
   "source": [
    "# I have defined the variables for you.\n",
    "# RUN THIS CELL FIRST.\n",
    "# DO NOT CHANGE THIS CELL.\n",
    "x = 5\n",
    "y = 42\n",
    "z = \"1\""
   ]
  },
  {
   "cell_type": "code",
   "execution_count": null,
   "metadata": {},
   "outputs": [],
   "source": [
    "# Write your code here to answer the question\n",
    "\n",
    "\n",
    "#"
   ]
  },
  {
   "cell_type": "code",
   "execution_count": null,
   "metadata": {
    "editable": false
   },
   "outputs": [],
   "source": [
    "# Print true or false for each correct answer\n",
    "print(type(x) is float)\n",
    "print(type(y) is str)\n",
    "print(type(z) is int)"
   ]
  },
  {
   "cell_type": "markdown",
   "metadata": {
    "editable": false
   },
   "source": [
    "## Problem 02 (3 points)\n",
    "Make variables p1, p2, and p3 equal to the desired value. Assign variables p1, p2, and p3 using only variables i, j, and k. Print the resulting variables.\n",
    "\n",
    "1. p1 == 2187\n",
    "2. p2 == 1\n",
    "3. p3 == 0\n",
    "\n",
    "Each correct variable worth 1 point.\n",
    "\n",
    "*Hint: None of the answers require more than three variables and a variable is never used more than once in the same answer.*"
   ]
  },
  {
   "cell_type": "code",
   "execution_count": null,
   "metadata": {
    "editable": false
   },
   "outputs": [],
   "source": [
    "# I have defined the variables for you.\n",
    "# RUN THIS CELL FIRST.\n",
    "# DO NOT CHANGE THIS CELL.\n",
    "i = 3\n",
    "j = 7\n",
    "k = 10"
   ]
  },
  {
   "cell_type": "code",
   "execution_count": null,
   "metadata": {},
   "outputs": [],
   "source": [
    "# Write your code here to answer the question\n",
    "p1 = i ** j\n",
    "p2 = (i + j) / k\n",
    "p3 = i + j - k\n",
    "#"
   ]
  },
  {
   "cell_type": "code",
   "execution_count": null,
   "metadata": {
    "editable": false
   },
   "outputs": [],
   "source": [
    "# Print true or false for each correct answer\n",
    "print(p1==2187)\n",
    "print(p2==1)\n",
    "print(p3==0)"
   ]
  },
  {
   "cell_type": "markdown",
   "metadata": {
    "editable": false
   },
   "source": [
    "## Problem 03 (4 points)\n",
    "Create a list and assign it to variable `x_list`. The list must be in ascending order (0 to 3) using the following variables:\n",
    "\n",
    "- a = 1\n",
    "- b = 3\n",
    "- c = 0\n",
    "- d = 2\n",
    "\n",
    "The answer is either correct or not."
   ]
  },
  {
   "cell_type": "code",
   "execution_count": null,
   "metadata": {
    "editable": false
   },
   "outputs": [],
   "source": [
    "# I have defined the variables for you.\n",
    "# RUN THIS CELL FIRST.\n",
    "# DO NOT CHANGE THIS CELL.\n",
    "a = 1\n",
    "b = 3\n",
    "c = 0\n",
    "d = 2"
   ]
  },
  {
   "cell_type": "code",
   "execution_count": null,
   "metadata": {},
   "outputs": [],
   "source": [
    "# Write your code here to answer the question\n",
    "x_list = \n",
    "\n",
    "#"
   ]
  },
  {
   "cell_type": "code",
   "execution_count": null,
   "metadata": {
    "editable": false
   },
   "outputs": [],
   "source": [
    "# Print true or false for correct answer\n",
    "print(x_list == [0,1,2,3])"
   ]
  },
  {
   "cell_type": "markdown",
   "metadata": {
    "editable": false
   },
   "source": [
    "## Problem 04 (5 points)\n",
    "\n",
    "Append the first 5 whole numbers, i.e., 1,2,3..., to a list using a `while` loop. Save the list to a variable named `num_list`\n",
    "\n",
    "Each correct value is worth 1 point. You *MUST* use a `while` loop. "
   ]
  },
  {
   "cell_type": "code",
   "execution_count": null,
   "metadata": {},
   "outputs": [],
   "source": [
    "# Write your code here to answer the question\n",
    "num_list = []\n",
    "\n",
    "#"
   ]
  },
  {
   "cell_type": "code",
   "execution_count": null,
   "metadata": {
    "editable": false
   },
   "outputs": [],
   "source": [
    "# Print true for each correct answer\n",
    "if len(num_list) < 5:\n",
    "    l = range(1,len(num_list)+1)\n",
    "else:\n",
    "    l = range(1,6)\n",
    "for i,j in zip(num_list, l):\n",
    "    print(i==j)"
   ]
  },
  {
   "cell_type": "markdown",
   "metadata": {
    "editable": false
   },
   "source": [
    "## Problem 05 (5 points)\n",
    "\n",
    "Print each of the 4 items in the list `fruits` using a `for` loop. After the `for` loop completes, print \"Done.\" using an `else` statement.\n",
    "\n",
    "Each correct line is worth 1 point. You *MUST* use a `for` loop and an `else` statement. "
   ]
  },
  {
   "cell_type": "code",
   "execution_count": null,
   "metadata": {
    "editable": false
   },
   "outputs": [],
   "source": [
    "# I have defined the variables for you.\n",
    "# RUN THIS CELL FIRST.\n",
    "# DO NOT CHANGE THIS CELL.\n",
    "fruits = ['apples','oranges','bananas','grapes']"
   ]
  },
  {
   "cell_type": "code",
   "execution_count": null,
   "metadata": {},
   "outputs": [],
   "source": [
    "# Write your code here to answer the question\n",
    "\n",
    "\n",
    "#"
   ]
  },
  {
   "cell_type": "markdown",
   "metadata": {
    "editable": false
   },
   "source": [
    "## Problem 06 (10 points)\n",
    "\n",
    "Print the following pattern using two `for` loops (one nested):\n",
    "\n",
    "`0`\n",
    "\n",
    "`0 1`\n",
    "\n",
    "`0 1 2`\n",
    "\n",
    "`0 1 2 3`\n",
    "\n",
    "`0 1 2 3 4`\n",
    "\n",
    "Each correct line is worth 2 points. You *MUST* use two `for` loops."
   ]
  },
  {
   "cell_type": "code",
   "execution_count": null,
   "metadata": {},
   "outputs": [],
   "source": [
    "# Write your code here to answer the question\n",
    "\n",
    "\n",
    "#"
   ]
  }
 ],
 "metadata": {
  "celltoolbar": "Edit Metadata",
  "kernelspec": {
   "display_name": "Python 3 (ipykernel)",
   "language": "python",
   "name": "python3"
  },
  "language_info": {
   "codemirror_mode": {
    "name": "ipython",
    "version": 3
   },
   "file_extension": ".py",
   "mimetype": "text/x-python",
   "name": "python",
   "nbconvert_exporter": "python",
   "pygments_lexer": "ipython3",
   "version": "3.10.9"
  }
 },
 "nbformat": 4,
 "nbformat_minor": 4
}
