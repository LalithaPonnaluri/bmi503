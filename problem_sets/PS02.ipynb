{
 "cells": [
  {
   "cell_type": "markdown",
   "id": "b9d62685",
   "metadata": {
    "editable": false
   },
   "source": [
    "# Problem Set 02\n",
    "\n",
    "---\n",
    "\n",
    "## Problem 01 (5 pts)\n",
    "\n",
    "Create a body mass index (BMI) calculator function called `bmi_calc()`. This function should take in `weight` (in kilograms) and `height` (in meters) as arguments and returns the calculated BMI.\n",
    "\n",
    "The equation for BMI is:\n",
    "\n",
    "BMI = weight / height<sup>2</sup>\n",
    "\n",
    "The function MUST:\n",
    "- be named `bmi_calc`\n",
    "- return the calculated bmi (not just print)\n",
    "- arguments must named `weight` and `height`\n",
    "- `weight` must be in kg, `height` must be in m.\n",
    "- return a value rounded to one decimal place (e.g., 20.1)\n",
    "\n",
    "The function will be tested on 5 \"patients\" (1 points each). "
   ]
  },
  {
   "cell_type": "code",
   "execution_count": null,
   "id": "deba28f7",
   "metadata": {},
   "outputs": [],
   "source": [
    "# Write your code here to answer the question\n",
    "\n",
    "#"
   ]
  },
  {
   "cell_type": "code",
   "execution_count": null,
   "id": "eed455c0",
   "metadata": {
    "editable": false
   },
   "outputs": [],
   "source": [
    "# Test the function\n",
    "print(bmi_calc(weight=50.0,height=1.52)==21.6)\n",
    "print(bmi_calc(weight=97.2,height=1.54)==41.0)\n",
    "print(bmi_calc(weight=51.1,height=1.93)==13.7)\n",
    "print(bmi_calc(weight=52.3,height=1.60)==20.4)\n",
    "print(bmi_calc(weight=84.1,height=1.803)==25.9)"
   ]
  },
  {
   "cell_type": "markdown",
   "id": "54ece28e",
   "metadata": {
    "editable": false
   },
   "source": [
    "## Problem 02 (5 pts)\n",
    "\n",
    "Create a function that will classify the \"healthiness\" of the patient called `bmi_class()`. The function will take in one argument, `bmi`, and will return the one of 4 classes based on the inputted BMI.\n",
    "\n",
    "The four classes are:\n",
    "- underweight <= 18.4\n",
    "- healthy >=18.5 and <=24.9\n",
    "- overweight >=25.0 and <=39.9\n",
    "- obese >= 40.0\n",
    "\n",
    "The function will be tested on 5 \"patients\" (1 point each). "
   ]
  },
  {
   "cell_type": "code",
   "execution_count": null,
   "id": "342505e8",
   "metadata": {},
   "outputs": [],
   "source": [
    "# Write your code here to answer the question\n",
    "\n",
    "#"
   ]
  },
  {
   "cell_type": "code",
   "execution_count": null,
   "id": "a454feb5",
   "metadata": {
    "editable": false
   },
   "outputs": [],
   "source": [
    "# Test the function\n",
    "print(bmi_class(bmi=21.6)==\"healthy\")\n",
    "print(bmi_class(bmi=41.0)==\"obese\")\n",
    "print(bmi_class(bmi=13.7)==\"underweight\")\n",
    "print(bmi_class(bmi=20.4)==\"healthy\")\n",
    "print(bmi_class(bmi=25.9)==\"overweight\")"
   ]
  },
  {
   "cell_type": "markdown",
   "id": "d779a8f5",
   "metadata": {},
   "source": [
    "##  Problem 03 (10 pts)\n",
    "\n",
    "Create a function, `bmi_print()`, that reads the weight and height of 5 patients from a csv file, `PS02-P03-patients.csv`, calculates the BMI for each patient, prints the BMI value, and the classification of the patient (underweight, healthy, overweight, or obese). Use the previous two functions, `bmi_calc()` and `bmi_class()`, in your new function.\n",
    "\n",
    "Your outputted print statement for each patient should include the patient number (starting with 1), BMI value, and BMI classification, e.g., \"Patient 1 is healthy with a BMI of 20.1\".\n",
    "\n",
    "The file `PS02-P03-patients.csv` has the weight and height (in that order) for each patient as a separate line. The weight (kg) and height (m) are separated by a comma (,), e.g., \"55.1,20.0\".\n",
    "\n",
    "The function will be tested on 5 \"patients\" (2 points each). "
   ]
  },
  {
   "cell_type": "code",
   "execution_count": null,
   "id": "805c1c47",
   "metadata": {},
   "outputs": [],
   "source": [
    "# Write your code here to answer the question\n",
    "\n",
    "#"
   ]
  },
  {
   "cell_type": "markdown",
   "id": "a9ffaa86",
   "metadata": {
    "editable": false
   },
   "source": [
    "## Problem 04 (5 points)\n",
    "\n",
    "Create a dataframe, `df_animals`, with three samples (rows) and three columns. The index names are `'a','b', 'c'` and the column names are `'name','color','mammal'`. The samples should contain the following information:\n",
    "- tiger, orange, True\n",
    "- elephant, grey, True\n",
    "- crocodile, green, False\n",
    "\n",
    "1 point for correct indicies, 1 point for correct columns, 3 points for each correct row."
   ]
  },
  {
   "cell_type": "code",
   "execution_count": null,
   "id": "8adfd894",
   "metadata": {},
   "outputs": [],
   "source": [
    "# Write your code here to answer the question\n",
    "\n",
    "#"
   ]
  },
  {
   "cell_type": "code",
   "execution_count": null,
   "id": "c64de782",
   "metadata": {
    "editable": false
   },
   "outputs": [],
   "source": [
    "# Test the function\n",
    "print(df.index.to_list()==['a','b','c'])\n",
    "print(df.columns.to_list()==['name','color','mammal'])\n",
    "print(df.iloc[0].to_list()==['tiger','orange',True])\n",
    "print(df.iloc[1].to_list()==['elephant','grey',True])\n",
    "print(df.iloc[2].to_list()==['crocodile','green',False])"
   ]
  },
  {
   "cell_type": "markdown",
   "id": "cd0df4c5",
   "metadata": {
    "editable": false
   },
   "source": [
    "## Problem 05 (5 points)\n",
    "\n",
    "Read in the csv file `PS02-P05-patients.csv` as a dataframe, drop rows with missing data, drop redundant rows, and save the updated dataframe as `new_patients.json`."
   ]
  },
  {
   "cell_type": "code",
   "execution_count": null,
   "id": "6c0cc695",
   "metadata": {},
   "outputs": [],
   "source": [
    "# Write your code here to answer the question\n",
    "\n",
    "#"
   ]
  },
  {
   "cell_type": "code",
   "execution_count": null,
   "id": "6c3ae199",
   "metadata": {
    "editable": false
   },
   "outputs": [],
   "source": [
    "# Test the function\n",
    "df = pd.read_json(\"new_patients.json\")\n",
    "print(df['Pregnancies'].isnull().sum()==0)\n",
    "print(df['Glucose'].isnull().sum()==0)\n",
    "print(df['BMI'].isnull().sum()==0)\n",
    "df_dup = df.duplicated()\n",
    "for i in df_dup.index:\n",
    "    if df_dup[i]==True:\n",
    "        print(\"Duplicate still exists.\")\n",
    "        break\n",
    "print(\"No duplicates.\")"
   ]
  },
  {
   "cell_type": "markdown",
   "id": "19f764db",
   "metadata": {
    "editable": false
   },
   "source": [
    "## Problem 06 (10 points)\n",
    "\n",
    "Read in the json file `PS02-P06-patients.json` and create a dictionary, `d_p3`, which has each column name as a key and the min, max, mean, and median values for each column in a list as the corresponding values.\n",
    "\n",
    "Ex. Column \"Height\" has a min value of 1.2, a max value of 2.0, a mean value of 1.4, and median value of 1.5 --- `d_p3 = {\"Height\": [1.2,2.0,1.4,1.5]}`"
   ]
  },
  {
   "cell_type": "code",
   "execution_count": null,
   "id": "e7cb634f",
   "metadata": {},
   "outputs": [],
   "source": [
    "# Write your code here to answer the question\n",
    "\n",
    "#"
   ]
  },
  {
   "cell_type": "code",
   "execution_count": null,
   "id": "9d864571",
   "metadata": {
    "editable": false
   },
   "outputs": [],
   "source": [
    "# Test the function\n",
    "print(d_p3['Pregnancies']==[0, 15, 4.12, 3.0])\n",
    "print(d_p3['Glucose']==[0, 197, 117.05, 110.5])\n",
    "print(d_p3['BloodPressure']==[0, 122, 68.12, 71.0])\n",
    "print(d_p3['SkinThickness']==[0, 60, 20.18, 22.5])\n",
    "print(d_p3['Insulin']==[0, 846, 75.17, 0.0])"
   ]
  },
  {
   "cell_type": "markdown",
   "id": "16a3dcb6",
   "metadata": {
    "editable": false
   },
   "source": [
    "---\n",
    "***For the following three problems (Problem 07-09), you must first load the dataset `PS02-stroke_data.csv` as `df`.***"
   ]
  },
  {
   "cell_type": "markdown",
   "id": "d6850722",
   "metadata": {
    "editable": false
   },
   "source": [
    "## Problem 07 (5 points)\n",
    "\n",
    "Change the values of column `Residence_type` from 'Urban' and 'Rural' to 0 and 1, respectively. Also change the values for `smoking_status` from 'formerly smoked', 'never smoked', 'smokes', and 'Unknown' to 0, 1, 2, and 3, respectively."
   ]
  },
  {
   "cell_type": "code",
   "execution_count": null,
   "id": "ddde7ba5",
   "metadata": {},
   "outputs": [],
   "source": [
    "# Write your code here to answer the question\n",
    "\n",
    "#"
   ]
  },
  {
   "cell_type": "code",
   "execution_count": null,
   "id": "9478e77b",
   "metadata": {
    "editable": false
   },
   "outputs": [],
   "source": [
    "# Test the function\n",
    "print(df['Residence_type'].unique().tolist()==[0,1])\n",
    "print(df['smoking_status'].unique().tolist()==[0,1,2,3])"
   ]
  },
  {
   "cell_type": "markdown",
   "id": "21886f97",
   "metadata": {
    "editable": false
   },
   "source": [
    "## Problem 08 (5 points)\n",
    "\n",
    "Bin `avg_glucose_level` into 4 quantiles, label the bins as `[0,1,2,3]`, and calculate the frequency of patients for each of the 4 groups. Assign the frequency Series as a variable named `glucose_freq`."
   ]
  },
  {
   "cell_type": "code",
   "execution_count": null,
   "id": "00f44dc4",
   "metadata": {},
   "outputs": [],
   "source": [
    "# Write your code here to answer the question\n",
    "\n",
    "#"
   ]
  },
  {
   "cell_type": "code",
   "execution_count": null,
   "id": "3ceb8ab6",
   "metadata": {
    "editable": false
   },
   "outputs": [],
   "source": [
    "# Test the function\n",
    "print(glucose_freq[0]==1278)\n",
    "print(glucose_freq[1]==1277)\n",
    "print(glucose_freq[2]==1278)\n",
    "print(glucose_freq[3]==1277)"
   ]
  },
  {
   "cell_type": "markdown",
   "id": "4a884255",
   "metadata": {
    "editable": false
   },
   "source": [
    "## Problem 09 (10 points)\n",
    "\n",
    "Calculate the mean `bmi` based on `gender`, round the mean values to 2 decimals places, then replace any `bmi` NaN values with the calculated mean `bmi` corresponding to each patient's `gender`. Modify the exisiting dataframe (`df`)"
   ]
  },
  {
   "cell_type": "code",
   "execution_count": null,
   "id": "11a1b917",
   "metadata": {},
   "outputs": [],
   "source": [
    "# Write your code here to answer the question\n",
    "\n",
    "#"
   ]
  },
  {
   "cell_type": "code",
   "execution_count": null,
   "id": "9a1a816f",
   "metadata": {
    "editable": false
   },
   "outputs": [],
   "source": [
    "# Test the function\n",
    "print(df.loc[1,'bmi']==29.07)\n",
    "print(df.loc[13,'bmi']==28.65)"
   ]
  }
 ],
 "metadata": {
  "celltoolbar": "Edit Metadata",
  "kernelspec": {
   "display_name": "Python 3 (ipykernel)",
   "language": "python",
   "name": "python3"
  },
  "language_info": {
   "codemirror_mode": {
    "name": "ipython",
    "version": 3
   },
   "file_extension": ".py",
   "mimetype": "text/x-python",
   "name": "python",
   "nbconvert_exporter": "python",
   "pygments_lexer": "ipython3",
   "version": "3.10.9"
  }
 },
 "nbformat": 4,
 "nbformat_minor": 5
}
