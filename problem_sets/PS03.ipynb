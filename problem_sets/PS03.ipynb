{
 "cells": [
  {
   "cell_type": "markdown",
   "id": "91b663e0",
   "metadata": {},
   "source": [
    "# Problem Set 03 (40 points)\n",
    "---\n",
    "\n",
    "Using the \"PS03-water_potability.csv\" dataset, answer the following questions in plain language and provide code, plots, and/or calculations to justify your answers. Remember to ***CLEAN*** the data first (remove missing values)."
   ]
  },
  {
   "cell_type": "markdown",
   "id": "6e014f5f",
   "metadata": {},
   "source": [
    "## Problem 01 (6 points)\n",
    "\n",
    "Plot the distributions of the following variables:\n",
    "1. ph\n",
    "2. Hardness\n",
    "3. Solids\n",
    "\n",
    "You may use any distribution plot type you wish."
   ]
  },
  {
   "cell_type": "markdown",
   "id": "2353f380",
   "metadata": {},
   "source": [
    "## Answer 01\n",
    "\n",
    "Provide your answers for each variable as a separate cell with the output being the distribution plot."
   ]
  },
  {
   "cell_type": "code",
   "execution_count": 2,
   "id": "f31a1c65",
   "metadata": {},
   "outputs": [],
   "source": [
    "# 1. pH\n"
   ]
  },
  {
   "cell_type": "code",
   "execution_count": 3,
   "id": "36c41af6",
   "metadata": {},
   "outputs": [],
   "source": [
    "# 2. Hardness\n"
   ]
  },
  {
   "cell_type": "code",
   "execution_count": 4,
   "id": "2fc64ea9",
   "metadata": {},
   "outputs": [],
   "source": [
    "# 3. Solids\n"
   ]
  },
  {
   "cell_type": "markdown",
   "id": "41afe28f",
   "metadata": {},
   "source": [
    "## Problem 02 (9 points)\n",
    "\n",
    "Tell me if the following variables are normally distributed or not:\n",
    "1. ph\n",
    "2. Hardness\n",
    "3. Solids"
   ]
  },
  {
   "cell_type": "markdown",
   "id": "248460b7",
   "metadata": {},
   "source": [
    "## Answer 02\n",
    "\n",
    "Write your answers for each variable as a separate cell.\n",
    "\n",
    "Provide any accompanying code, plots, and calculations in each cell. You may also reference the plots from Problem 01 in your answer.\n"
   ]
  },
  {
   "cell_type": "code",
   "execution_count": 5,
   "id": "4837ec91",
   "metadata": {},
   "outputs": [],
   "source": [
    "# 1. pH\n"
   ]
  },
  {
   "cell_type": "code",
   "execution_count": 6,
   "id": "7d334f7d",
   "metadata": {},
   "outputs": [],
   "source": [
    "# 2. Hardness\n"
   ]
  },
  {
   "cell_type": "code",
   "execution_count": 7,
   "id": "ca786c0b",
   "metadata": {},
   "outputs": [],
   "source": [
    "# 3. Solids\n"
   ]
  },
  {
   "cell_type": "markdown",
   "id": "35f63f90",
   "metadata": {},
   "source": [
    "## Problem 03 (10 points)\n",
    "\n",
    "1. Which correlation method can be used to determine the relationship between ph and Hardness? Why? Give specific output or plots to justify your answer.\n",
    "2. Using that method, what is the correlation coefficient and p-value for those two variables?"
   ]
  },
  {
   "cell_type": "markdown",
   "id": "67dfc9df",
   "metadata": {},
   "source": [
    "## Answer 03\n",
    "\n",
    "Write your answers for each variable as a separate cell."
   ]
  },
  {
   "cell_type": "code",
   "execution_count": 8,
   "id": "3f5f6d8b",
   "metadata": {},
   "outputs": [],
   "source": [
    "# 1\n"
   ]
  },
  {
   "cell_type": "code",
   "execution_count": 9,
   "id": "e4584c43",
   "metadata": {},
   "outputs": [],
   "source": [
    "# 2\n"
   ]
  },
  {
   "cell_type": "markdown",
   "id": "88872c63",
   "metadata": {},
   "source": [
    "## Problem 04 (9 points)\n",
    "\n",
    "Plot the scatterplots for each of the variables with respect to Potability (x vs. Potability). 9 plots."
   ]
  },
  {
   "cell_type": "markdown",
   "id": "8a19c06d",
   "metadata": {},
   "source": [
    "## Answer 04\n",
    "\n",
    "Provide your answers below in a single or multiple cells."
   ]
  },
  {
   "cell_type": "code",
   "execution_count": 10,
   "id": "3a9eb1f5",
   "metadata": {},
   "outputs": [],
   "source": [
    "# Write your code here\n"
   ]
  },
  {
   "cell_type": "markdown",
   "id": "5d3a8a0e",
   "metadata": {},
   "source": [
    "## Problem 05 (6 points)\n",
    "\n",
    "Which variable has the highest correlation with the variable Potability? What is the correlation and p-value for that relationship?"
   ]
  },
  {
   "cell_type": "markdown",
   "id": "03ea66a0",
   "metadata": {},
   "source": [
    "## Answer 05\n",
    "\n",
    "Provide your answers here by modifying the cell below:"
   ]
  },
  {
   "cell_type": "code",
   "execution_count": 11,
   "id": "66f2caaa",
   "metadata": {},
   "outputs": [],
   "source": [
    "# Provide any accompanying code and calculations in this cell. \n",
    "# Please refer to your answer for Problem 04 if needed.\n"
   ]
  }
 ],
 "metadata": {
  "kernelspec": {
   "display_name": "Python 3 (ipykernel)",
   "language": "python",
   "name": "python3"
  },
  "language_info": {
   "codemirror_mode": {
    "name": "ipython",
    "version": 3
   },
   "file_extension": ".py",
   "mimetype": "text/x-python",
   "name": "python",
   "nbconvert_exporter": "python",
   "pygments_lexer": "ipython3",
   "version": "3.10.9"
  }
 },
 "nbformat": 4,
 "nbformat_minor": 5
}
