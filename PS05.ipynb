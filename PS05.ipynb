{
 "cells": [
  {
   "cell_type": "markdown",
   "id": "939cc225-990d-4d7e-a16d-a55a70395bd5",
   "metadata": {},
   "source": [
    "# Problem set 05 (50 points)\n",
    "---"
   ]
  },
  {
   "cell_type": "markdown",
   "id": "cfd642c7-022c-496c-9656-94c873fb72df",
   "metadata": {},
   "source": [
    "The following 4 problems will require you to (A) write a SQL query that will extract specific data from the 3 tables in the following database and (B) write what the outputted data would look like in tabular form.\n",
    "\n",
    "Table 1: **Patients**\n",
    "| patient_id | last_name | first_name | date_of_birth |\n",
    "| ---------- | --------- | ---------- | ------------- |\n",
    "| 4309872    | Smith     | John       | 1959-01-02    |\n",
    "| 0973407    | Doe       | Jane       | 1970-04-17    |\n",
    "| 8973582    | Collins   | Thomas     | 1984-10-30    |\n",
    "| 9823741    | Parker    | Sarah      | 1988-06-21    |\n",
    "\n",
    "Table 2: **Prescriptions**\n",
    "| script_id | date_of_script | patient_id | ndc           |\n",
    "| --------- | -------------- | ---------- | ------------- |\n",
    "| 100       | 2021-01-01     | 4309872    | 4929910924    |\n",
    "| 101       | 2021-01-11     | 8973582    | 5038392493    |\n",
    "| 102       | 2021-02-12     | 8973582    | 5038392493    |\n",
    "| 103       | 2021-02-14     | 9823741    | 0140000501    |\n",
    "| 104       | 2021-02-14     | 0973407    | 6042911101    |\n",
    "| 105       | 2021-04-01     | 4309872    | 4929910924    |\n",
    "| 106       | 2021-04-06     | 0973407    | 6042911101    |\n",
    "| 107       | 2021-05-07     | 8973582    | 5038392493    |\n",
    "| 108       | 2021-05-26     | 0973407    | 6042911101    |\n",
    "| 109       | 2021-05-29     | 9823741    | 0140000501    |\n",
    "| 110       | 2021-07-01     | 4309872    | 4929910924    |\n",
    "| 111       | 2021-07-16     | 0973407    | 6042911101    |\n",
    "| 112       | 2021-09-03     | 9823741    | 0140000501    |\n",
    "| 113       | 2021-09-05     | 0973407    | 6042911101    |\n",
    "| 114       | 2021-10-01     | 4309872    | 4929910924    |\n",
    "\n",
    "Table 3: **Drug_Info**\n",
    "| ndc        | ingredient_name         | dose       | quantity | route_of_delivery  |\n",
    "| ---------- | -----------------       | ---------- | -------- | ------------------ |\n",
    "| 5038392493 | buprenorphine           | 2 mg       | 30       | sublingual tablets |\n",
    "| 0140000501 | diazepam                | 5 mg       | 100      | oral tablets       |\n",
    "| 6042911101 | metformin hydrochloride | 500 mg     | 100      | oral tablets       |\n",
    "| 4929910924 | atorvastatin calcium    | 40 mg      | 90       | oral tablets       |\n"
   ]
  },
  {
   "cell_type": "markdown",
   "id": "364dcfaf-c4f7-4862-a846-1aaaf23ebbe7",
   "metadata": {},
   "source": [
    "## Problem 01 (10 points)\n",
    "(A) Write a query statement that pulls the first name, last name, and date of birth for only patients with a date of birth after 1980."
   ]
  },
  {
   "cell_type": "markdown",
   "id": "c3325cfa-3387-4080-8740-80125967f071",
   "metadata": {},
   "source": [
    "## Answer 01 A\n",
    "\n"
   ]
  },
  {
   "cell_type": "markdown",
   "id": "4769e0ab-b304-4c83-84b9-c9141d7e147c",
   "metadata": {},
   "source": [
    "(B) Write what the outputted data will look like in tabular form. (Use the template below for tabulating the resulting output)"
   ]
  },
  {
   "cell_type": "markdown",
   "id": "e83caec5-1dad-40f8-b93a-e7f3c7bd496a",
   "metadata": {},
   "source": [
    "## Answer 01 B\n",
    "\n",
    "| Column 1   | Column_2         | Column_3       |\n",
    "| ---------- | ---------------- | -------------- |\n",
    "|            |                  |                |\n"
   ]
  },
  {
   "cell_type": "markdown",
   "id": "7c41cf15-69fa-4fb2-9cb5-8bb4a8a63782",
   "metadata": {},
   "source": [
    "## Problem 02 (12 points)\n",
    "(A) Write a statement that inserts a new record in the Prescriptions table where:\n",
    "- script_id is incremented by 1 from the last record\n",
    "- Jane Doe receives a prescription for atorvastatin\n",
    "- the date_of_script is 2021-10-05\n"
   ]
  },
  {
   "cell_type": "markdown",
   "id": "c79dd2b0-7039-489d-9dc7-c531ea9910d2",
   "metadata": {},
   "source": [
    "## Answer 02 A\n"
   ]
  },
  {
   "cell_type": "markdown",
   "id": "d2a2bb83-b267-4dff-b49e-dac22232e54d",
   "metadata": {},
   "source": [
    "(B) Write what the new record will look like in tabular form. (Use the template below for tabulating the resulting output)"
   ]
  },
  {
   "cell_type": "markdown",
   "id": "368152b8-cde1-4d7a-aeff-5ce7e91dbdfc",
   "metadata": {},
   "source": [
    "## Answer 02 B\n",
    "\n",
    "| Column 1   | Column_2         | Column_3       |\n",
    "| ---------- | ---------------- | -------------- |\n",
    "|            |                  |                |\n"
   ]
  },
  {
   "cell_type": "markdown",
   "id": "2f283a6a-9e41-4cf0-9c26-8cda6a9c19aa",
   "metadata": {},
   "source": [
    "## Problem 03 (12 points)\n",
    "(A) Write a statement that pulls the date_of_script, patient_id, ndc, and ingredient_name for all prescriptions from 2021-01-01 to 2021-05-01."
   ]
  },
  {
   "cell_type": "markdown",
   "id": "b9745a3c-cbd7-4231-b0fa-f54ea51cde5d",
   "metadata": {},
   "source": [
    "## Answer 03 A\n"
   ]
  },
  {
   "cell_type": "markdown",
   "id": "3e825c32-5875-4eae-af3f-2b27819e4c7f",
   "metadata": {},
   "source": [
    "(B) Write what the outputted data will look like in tabular form. (Use the template below for tabulating the resulting output)"
   ]
  },
  {
   "cell_type": "markdown",
   "id": "2bef6b84-246c-4f93-abe2-fce6d4f57aba",
   "metadata": {},
   "source": [
    "## Answer 03 B\n",
    "\n",
    "| Column 1   | Column_2         | Column_3       |\n",
    "| ---------- | ---------------- | -------------- |\n",
    "|            |                  |                |\n"
   ]
  },
  {
   "cell_type": "markdown",
   "id": "254dd29b-ba2d-4cb1-8bc4-bb0ecc829eeb",
   "metadata": {},
   "source": [
    "## Problem 04 (16 points)\n",
    "(A) Write a statement that pulls the date_of_script, patient_id, last_name, ndc, ingredient_name, and dose for all prescriptions for Thomas Collins and sort them in descending order based on date_of_script."
   ]
  },
  {
   "cell_type": "markdown",
   "id": "c30fd100-f6de-478c-9ca8-9e95202019ca",
   "metadata": {},
   "source": [
    "## Answer 04 A\n"
   ]
  },
  {
   "cell_type": "markdown",
   "id": "563291df-c4f6-4c55-ae7e-036329b4dc60",
   "metadata": {},
   "source": [
    "(B) Write what the outputted data will look like in tabular form. (Use the template below for tabulating the resulting output)"
   ]
  },
  {
   "cell_type": "markdown",
   "id": "2e38f092-6063-4146-8552-fc16971be948",
   "metadata": {},
   "source": [
    "## Answer 04 B\n",
    "\n",
    "| Column 1   | Column_2         | Column_3       |\n",
    "| ---------- | ---------------- | -------------- |\n",
    "|            |                  |                |\n"
   ]
  }
 ],
 "metadata": {
  "kernelspec": {
   "display_name": "Python 3 (ipykernel)",
   "language": "python",
   "name": "python3"
  },
  "language_info": {
   "codemirror_mode": {
    "name": "ipython",
    "version": 3
   },
   "file_extension": ".py",
   "mimetype": "text/x-python",
   "name": "python",
   "nbconvert_exporter": "python",
   "pygments_lexer": "ipython3",
   "version": "3.11.5"
  }
 },
 "nbformat": 4,
 "nbformat_minor": 5
}
