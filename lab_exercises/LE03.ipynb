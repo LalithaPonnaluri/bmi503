{
 "cells": [
  {
   "cell_type": "markdown",
   "id": "5fbb32ad",
   "metadata": {},
   "source": [
    "# Lab Exercise 03\n",
    "\n",
    "---\n",
    "\n",
    "## Functions\n",
    "\n",
    "A block of code that can be run when called. \n",
    "\n",
    "Use the `def` keyword to define the function."
   ]
  },
  {
   "cell_type": "code",
   "execution_count": null,
   "id": "2debcc72",
   "metadata": {},
   "outputs": [],
   "source": [
    "# Create a function that print \"1\"\n",
    "def print_one():\n",
    "    print(1)\n",
    "\n",
    "# Call the function\n",
    "print_one()"
   ]
  },
  {
   "cell_type": "markdown",
   "id": "cb7c7c02",
   "metadata": {},
   "source": [
    "A function can take arguments that can be used a variables in the function."
   ]
  },
  {
   "cell_type": "code",
   "execution_count": null,
   "id": "9ff78d15",
   "metadata": {},
   "outputs": [],
   "source": [
    "# Create a function that prints a number\n",
    "def print_num(x):\n",
    "    print(x)\n",
    "\n",
    "# Call the function\n",
    "print_num(2)"
   ]
  },
  {
   "cell_type": "markdown",
   "id": "5bea7c95",
   "metadata": {},
   "source": [
    "You can define the number of arguments for a function."
   ]
  },
  {
   "cell_type": "code",
   "execution_count": null,
   "id": "663ef1ff",
   "metadata": {},
   "outputs": [],
   "source": [
    "# Create a function that prints two numbers\n",
    "def print_num(x,y):\n",
    "    print(x)\n",
    "    print(y)\n",
    "\n",
    "# Call the function\n",
    "print_num(2,3)"
   ]
  },
  {
   "cell_type": "markdown",
   "id": "fb4cd629",
   "metadata": {},
   "source": [
    "If the incorrect number of arguments is provided when calling the function, python will throw an error."
   ]
  },
  {
   "cell_type": "code",
   "execution_count": null,
   "id": "4785a0db",
   "metadata": {
    "scrolled": true
   },
   "outputs": [],
   "source": [
    "# Create a function that prints two numbers\n",
    "def print_num(x,y):\n",
    "    print(x)\n",
    "    print(y)\n",
    "\n",
    "# Call the function\n",
    "print_num(2)"
   ]
  },
  {
   "cell_type": "markdown",
   "id": "3f8351fa",
   "metadata": {},
   "source": [
    "Can use the keyword of the arguments when calling the function."
   ]
  },
  {
   "cell_type": "code",
   "execution_count": null,
   "id": "291a62e5",
   "metadata": {},
   "outputs": [],
   "source": [
    "# Create a function that prints two numbers\n",
    "def print_num(x,y):\n",
    "    print(x)\n",
    "    print(y)\n",
    "\n",
    "# Call the function\n",
    "print_num(x=2, y=3)"
   ]
  },
  {
   "cell_type": "markdown",
   "id": "3ea78d99",
   "metadata": {},
   "source": [
    "Can set default values for arguments in a function. This allows us to not define a value for these arguments when calling the function and the default value will be used.\n",
    "\n",
    "Any arguments without a default value must be placed first in the list of arguments when defining the function."
   ]
  },
  {
   "cell_type": "code",
   "execution_count": null,
   "id": "cf15442f",
   "metadata": {},
   "outputs": [],
   "source": [
    "# Create a function that prints two numbers\n",
    "def print_num(x=2,y=3):\n",
    "    print(x)\n",
    "    print(y)\n",
    "\n",
    "# Call the function\n",
    "print_num()"
   ]
  },
  {
   "cell_type": "code",
   "execution_count": null,
   "id": "f0e3e3e7",
   "metadata": {},
   "outputs": [],
   "source": [
    "# Create a function that prints two numbers\n",
    "def print_num(x,y=3):\n",
    "    print(x)\n",
    "    print(y)\n",
    "\n",
    "# Call the function\n",
    "print_num(x=2)"
   ]
  },
  {
   "cell_type": "code",
   "execution_count": null,
   "id": "acdd1c2e",
   "metadata": {},
   "outputs": [],
   "source": [
    "# Create a function that prints two numbers\n",
    "def print_num(x,y=3):\n",
    "    print(x)\n",
    "    print(y)\n",
    "\n",
    "# Call the function\n",
    "print_num(x=2,y=4)"
   ]
  },
  {
   "cell_type": "markdown",
   "id": "1dd18df5",
   "metadata": {},
   "source": [
    "Functions can return values, alloing the user to set a variable with the result of a function."
   ]
  },
  {
   "cell_type": "code",
   "execution_count": null,
   "id": "2787e3b0",
   "metadata": {},
   "outputs": [],
   "source": [
    "# Create a function that calculates the inputted value squared\n",
    "def square_num(x):\n",
    "    return x**2\n",
    "\n",
    "# Call the function\n",
    "x2 = square_num(x=2)\n",
    "print(x2)"
   ]
  },
  {
   "cell_type": "code",
   "execution_count": null,
   "id": "f50f8e4f",
   "metadata": {},
   "outputs": [],
   "source": [
    "print(square_num(3))"
   ]
  },
  {
   "cell_type": "markdown",
   "id": "648f5fe9",
   "metadata": {},
   "source": [
    "## Built-in functions and methods\n",
    "\n",
    "We have already covered some functions in python, including `range()`, `len()`, and data type casts. There are more functions that are quite useful.\n",
    "\n",
    "`print()` is used to write to the std out"
   ]
  },
  {
   "cell_type": "code",
   "execution_count": null,
   "id": "2c5e30ec",
   "metadata": {
    "scrolled": true
   },
   "outputs": [],
   "source": [
    "print(\"HellO WORLD.\")"
   ]
  },
  {
   "cell_type": "markdown",
   "id": "61ce451e",
   "metadata": {},
   "source": [
    "We can pass as many objects as we'd like to the print function."
   ]
  },
  {
   "cell_type": "code",
   "execution_count": null,
   "id": "e8dd17db",
   "metadata": {
    "scrolled": true
   },
   "outputs": [],
   "source": [
    "print(\"Hello\",\"World\",\".\")"
   ]
  },
  {
   "cell_type": "markdown",
   "id": "d90d97fe",
   "metadata": {},
   "source": [
    "We can also modify how the objects are outputted using two arguments:\n",
    "\n",
    "`sep` defines how the objects will be separated\n",
    "`end` defines what character will terminate the string"
   ]
  },
  {
   "cell_type": "code",
   "execution_count": null,
   "id": "d43de1a6",
   "metadata": {
    "scrolled": true
   },
   "outputs": [],
   "source": [
    "print(\"Hello\",\"World\",\".\", sep='..')"
   ]
  },
  {
   "cell_type": "code",
   "execution_count": null,
   "id": "c0028689",
   "metadata": {},
   "outputs": [],
   "source": [
    "print(\"Hello\", end=' ')\n",
    "print(\"World\", end='.')"
   ]
  },
  {
   "cell_type": "markdown",
   "id": "6b742225",
   "metadata": {},
   "source": [
    "`input()` is similar to std in. It can be used to prompt the user to enter a value."
   ]
  },
  {
   "cell_type": "code",
   "execution_count": null,
   "id": "6734bf55",
   "metadata": {},
   "outputs": [],
   "source": [
    "x = input(\"Please enter the value of x: \")\n",
    "print(f\"x is equal to {x}\")"
   ]
  },
  {
   "cell_type": "markdown",
   "id": "41fd4387",
   "metadata": {},
   "source": [
    "`round()` will round the the value to the nearest whole integer. The function takes a value in as an argument and returns the rounded value."
   ]
  },
  {
   "cell_type": "code",
   "execution_count": null,
   "id": "eac2b40d",
   "metadata": {
    "scrolled": true
   },
   "outputs": [],
   "source": [
    "print(round(2.1))"
   ]
  },
  {
   "cell_type": "code",
   "execution_count": null,
   "id": "d31c8ca4",
   "metadata": {},
   "outputs": [],
   "source": [
    "print(round(2.6))"
   ]
  },
  {
   "cell_type": "markdown",
   "id": "927d4012",
   "metadata": {},
   "source": [
    "You can also round to a specific number of decimal  by providing a second argument to set the returned number of digits after the decimal."
   ]
  },
  {
   "cell_type": "code",
   "execution_count": null,
   "id": "493e34f7",
   "metadata": {
    "scrolled": true
   },
   "outputs": [],
   "source": [
    "print(round(3.14159, 2))"
   ]
  },
  {
   "cell_type": "markdown",
   "id": "a32ec2e8",
   "metadata": {},
   "source": [
    "`sum()` will return the total value of from an array of values."
   ]
  },
  {
   "cell_type": "code",
   "execution_count": null,
   "id": "0e7a3cff",
   "metadata": {
    "scrolled": true
   },
   "outputs": [],
   "source": [
    "l = [1,2,3,4]\n",
    "print(sum(l))"
   ]
  },
  {
   "cell_type": "markdown",
   "id": "91b31ae2",
   "metadata": {},
   "source": [
    "`max()` and `min()` allow the user to easily identify the maximum and minimum values in an array, respectively."
   ]
  },
  {
   "cell_type": "code",
   "execution_count": null,
   "id": "5a4dd33e",
   "metadata": {
    "scrolled": true
   },
   "outputs": [],
   "source": [
    "l = [1,2,3,4]\n",
    "print(min(l))"
   ]
  },
  {
   "cell_type": "code",
   "execution_count": null,
   "id": "bad14b0e",
   "metadata": {
    "scrolled": true
   },
   "outputs": [],
   "source": [
    "l = [1,2,3,4]\n",
    "print(max(l))"
   ]
  },
  {
   "cell_type": "markdown",
   "id": "a668415c",
   "metadata": {},
   "source": [
    "### String methods\n",
    "\n",
    "We have discussed some string methods, but a few that are very useful include:\n",
    "- `join()`\n",
    "- `upper()`\n",
    "- `lower()`\n",
    "- `split()`\n",
    "- `strip()`\n",
    "- `replace()`"
   ]
  },
  {
   "cell_type": "markdown",
   "id": "93b9d25c",
   "metadata": {},
   "source": [
    "`join()` lets us concatenate an array of strings into a single string. An array of strings in the argument this method takes in. The string you apply this function to is the string that will join the strings in the list."
   ]
  },
  {
   "cell_type": "code",
   "execution_count": null,
   "id": "038aafba",
   "metadata": {},
   "outputs": [],
   "source": [
    "l = ['H','e','l','l','o']\n",
    "print(\"\".join(l))"
   ]
  },
  {
   "cell_type": "code",
   "execution_count": null,
   "id": "5c0d8365",
   "metadata": {},
   "outputs": [],
   "source": [
    "l = ['H','e','l','l','o']\n",
    "print(\"\\t\".join(l))"
   ]
  },
  {
   "cell_type": "markdown",
   "id": "eeeb8032",
   "metadata": {},
   "source": [
    "`upper()` and `lower()` will make the string all uppercase or lowercase, respectively."
   ]
  },
  {
   "cell_type": "code",
   "execution_count": null,
   "id": "1d708300",
   "metadata": {
    "scrolled": true
   },
   "outputs": [],
   "source": [
    "s = \"Hello World!\"\n",
    "print(s.upper())"
   ]
  },
  {
   "cell_type": "code",
   "execution_count": null,
   "id": "be86a895",
   "metadata": {
    "scrolled": true
   },
   "outputs": [],
   "source": [
    "s = \"Hello World!\"\n",
    "print(s.lower())"
   ]
  },
  {
   "cell_type": "markdown",
   "id": "8aeed9d1",
   "metadata": {},
   "source": [
    "`split()` allows us to separate a string into an array of strings. This method can take an argument that defines what character the function will split on, default is whitespace."
   ]
  },
  {
   "cell_type": "code",
   "execution_count": null,
   "id": "ebc3eb1e",
   "metadata": {
    "scrolled": true
   },
   "outputs": [],
   "source": [
    "s = \"Hello World!\"\n",
    "print(s.split())"
   ]
  },
  {
   "cell_type": "code",
   "execution_count": null,
   "id": "cccd0eb5",
   "metadata": {
    "scrolled": true
   },
   "outputs": [],
   "source": [
    "s = \"blue,bird,4\"\n",
    "print(s.split(','))"
   ]
  },
  {
   "cell_type": "markdown",
   "id": "95d5fdf0",
   "metadata": {},
   "source": [
    "`strip()` will remove the trailing and leading whtiespace in a string."
   ]
  },
  {
   "cell_type": "code",
   "execution_count": null,
   "id": "8c986808",
   "metadata": {
    "scrolled": true
   },
   "outputs": [],
   "source": [
    "s = \"    Hello World!    \"\n",
    "print(s.strip())"
   ]
  },
  {
   "cell_type": "markdown",
   "id": "90e382dc",
   "metadata": {},
   "source": [
    "Can also define which characters will be removed from the beginning and end of the string."
   ]
  },
  {
   "cell_type": "code",
   "execution_count": null,
   "id": "525f3872",
   "metadata": {},
   "outputs": [],
   "source": [
    "s = \"...Hello World!\\n\"\n",
    "print(s.strip(\".\\n\"))"
   ]
  },
  {
   "cell_type": "markdown",
   "id": "2d119739",
   "metadata": {},
   "source": [
    "`replace()` will replace a defined string with another string throughout the given string. THis method is applied to a string and takes two arguments: the string to find and the string to replace."
   ]
  },
  {
   "cell_type": "code",
   "execution_count": null,
   "id": "8b22e2fc",
   "metadata": {},
   "outputs": [],
   "source": [
    "s = \"Hello World!\"\n",
    "print(s.replace(\"!\",\".\"))"
   ]
  },
  {
   "cell_type": "code",
   "execution_count": null,
   "id": "417da5f1",
   "metadata": {},
   "outputs": [],
   "source": [
    "s = \"Hello World!\"\n",
    "print(s.replace(\"o\",\" \"))"
   ]
  },
  {
   "cell_type": "markdown",
   "id": "f9d7946b",
   "metadata": {},
   "source": [
    "## File handling\n",
    "\n",
    "In python, you can open, read, and write files.\n",
    "\n",
    "`open()` is the function we will use to access a file. This function takes two arguemnts:\n",
    "- filename (name of the file to be opened)\n",
    "- mode (what you can do with the opened file)\n",
    "\n",
    "The modes include:\n",
    "- \"r\" == read (default)\n",
    "- \"a\" == append\n",
    "- \"w\" == write"
   ]
  },
  {
   "cell_type": "code",
   "execution_count": null,
   "id": "afb34e1a",
   "metadata": {
    "scrolled": true
   },
   "outputs": [],
   "source": [
    "f = open(\"test.txt\",'r')\n",
    "print(f)"
   ]
  },
  {
   "cell_type": "markdown",
   "id": "4bfc8ad9",
   "metadata": {},
   "source": [
    "What happens if the file (filename) doesn't exist?\n",
    "\n",
    "'r' will throw an error\n",
    "'a' will throw an error\n",
    "'w' will create a new file (and overwrite an existing file)\n",
    "'x' will create a new file (throws an error if the file does exist!)"
   ]
  },
  {
   "cell_type": "code",
   "execution_count": null,
   "id": "605a551f",
   "metadata": {
    "scrolled": true
   },
   "outputs": [],
   "source": [
    "f = open(\"no_file.txt\",'r')"
   ]
  },
  {
   "cell_type": "markdown",
   "id": "ac1353a9",
   "metadata": {},
   "source": [
    "After reading, creating, or modifying a file, you must close the file. To do this you will use the `close()` function on the file object."
   ]
  },
  {
   "cell_type": "code",
   "execution_count": null,
   "id": "4258fc7b",
   "metadata": {},
   "outputs": [],
   "source": [
    "f.close()"
   ]
  },
  {
   "cell_type": "markdown",
   "id": "0977253e",
   "metadata": {},
   "source": [
    "The `with` statement is much easier than ensuring each file that is opened is subsequently closed after using it."
   ]
  },
  {
   "cell_type": "code",
   "execution_count": null,
   "id": "292010dd",
   "metadata": {},
   "outputs": [],
   "source": [
    "with open(\"test.txt\",'r') as f:\n",
    "    print(f)"
   ]
  },
  {
   "cell_type": "markdown",
   "id": "5f2f9feb",
   "metadata": {},
   "source": [
    "Once we have the file open, we can then use functions to manipulate the file data.\n",
    "\n",
    "`read()` is the first function. This allows us to read the whole file."
   ]
  },
  {
   "cell_type": "code",
   "execution_count": null,
   "id": "07df2051",
   "metadata": {},
   "outputs": [],
   "source": [
    "with open(\"test.txt\",'r') as f:\n",
    "    print(f.read())"
   ]
  },
  {
   "cell_type": "markdown",
   "id": "da076ce4",
   "metadata": {},
   "source": [
    "You will notice the test file (\"test.txt\") has 4 separate lines of text. We can read this file line by line using the `readline()` function."
   ]
  },
  {
   "cell_type": "code",
   "execution_count": null,
   "id": "61b13fe7",
   "metadata": {
    "scrolled": true
   },
   "outputs": [],
   "source": [
    "with open(\"test.txt\",'r') as f:\n",
    "    # print the first line\n",
    "    print(f.readline())"
   ]
  },
  {
   "cell_type": "markdown",
   "id": "8778549b",
   "metadata": {},
   "source": [
    "Return more than one line by calling the `readline()` mutliple times while the file is open."
   ]
  },
  {
   "cell_type": "code",
   "execution_count": null,
   "id": "c7e19537",
   "metadata": {},
   "outputs": [],
   "source": [
    "with open(\"test.txt\",'r') as f:\n",
    "    # print the first line\n",
    "    print(f.readline())\n",
    "    # print the second line\n",
    "    print(f.readline())"
   ]
  },
  {
   "cell_type": "markdown",
   "id": "a3365c89",
   "metadata": {},
   "source": [
    "We can read these lines of text and load them into a list using the `readlines()` function."
   ]
  },
  {
   "cell_type": "code",
   "execution_count": null,
   "id": "2667bd30",
   "metadata": {},
   "outputs": [],
   "source": [
    "with open(\"test.txt\",'r') as f:\n",
    "    l = f.readlines()\n",
    "print(l)"
   ]
  },
  {
   "cell_type": "markdown",
   "id": "7dd60be9",
   "metadata": {},
   "source": [
    "We can also iterate through all of the lines in a text file by using a for loop with an open file object."
   ]
  },
  {
   "cell_type": "code",
   "execution_count": null,
   "id": "503a6cae",
   "metadata": {},
   "outputs": [],
   "source": [
    "with open(\"test.txt\",'r') as f:\n",
    "    for line in f:\n",
    "        print(line)"
   ]
  },
  {
   "cell_type": "markdown",
   "id": "65579c18",
   "metadata": {},
   "source": [
    "Using the `write()` method we can save data to an open file."
   ]
  },
  {
   "cell_type": "code",
   "execution_count": null,
   "id": "7a98e849",
   "metadata": {
    "scrolled": true
   },
   "outputs": [],
   "source": [
    "with open(\"mytest.txt\",'w') as f:\n",
    "    for i in range(4):\n",
    "        f.write(str(i))\n",
    "        \n",
    "with open(\"mytest.txt\",'r') as f:\n",
    "    print(f.read())"
   ]
  },
  {
   "cell_type": "markdown",
   "id": "e4283d92",
   "metadata": {},
   "source": [
    "Can append to an existing file as well."
   ]
  },
  {
   "cell_type": "code",
   "execution_count": null,
   "id": "c81ed3b2",
   "metadata": {},
   "outputs": [],
   "source": [
    "with open(\"mytest.txt\",'a') as f:\n",
    "    f.write(\"4\")\n",
    "        \n",
    "with open(\"mytest.txt\",'r') as f:\n",
    "    print(f.read())"
   ]
  },
  {
   "cell_type": "code",
   "execution_count": null,
   "id": "b2730bec",
   "metadata": {},
   "outputs": [],
   "source": []
  }
 ],
 "metadata": {
  "kernelspec": {
   "display_name": "Python 3 (ipykernel)",
   "language": "python",
   "name": "python3"
  },
  "language_info": {
   "codemirror_mode": {
    "name": "ipython",
    "version": 3
   },
   "file_extension": ".py",
   "mimetype": "text/x-python",
   "name": "python",
   "nbconvert_exporter": "python",
   "pygments_lexer": "ipython3",
   "version": "3.10.9"
  }
 },
 "nbformat": 4,
 "nbformat_minor": 5
}
