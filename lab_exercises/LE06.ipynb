{
 "cells": [
  {
   "cell_type": "markdown",
   "id": "b0454885",
   "metadata": {},
   "source": [
    "# Lab Exercise 06\n",
    "---"
   ]
  },
  {
   "cell_type": "markdown",
   "id": "6f9c6016",
   "metadata": {},
   "source": [
    "## Research pipeline\n",
    "\n",
    "We have already covered some topics and techniques for loading, cleaning, and manipulating your datasets. While this is extremely important and most times the longest, most tedious part of the research process. However, if you have very clean data you will often be rewarded with fun and exciting analyses and results.\n",
    "\n",
    "![research](img/research_protocol.png)\n",
    "\n",
    "\n",
    "The analysis part is crucial and neded prior to good visualizations for your results, but I am going to cover visualization techniques first since some of these methods anf functions will be very helpful in some data exploration before you run a more formal analysis technique or applying machine learning, etc."
   ]
  },
  {
   "cell_type": "markdown",
   "id": "249bab60",
   "metadata": {},
   "source": [
    "## Visualization techniques\n",
    "\n",
    "Visualization is important to depict certain aspects of your data. These include: \n",
    "- distributions\n",
    "- statistical relationships (continuous variables)\n",
    "- statistical relationships (categorical variables)\n",
    "\n",
    "Some visualization methods are built into modules like scipy, numpy, and pandas. We can use these to quickly generate depictions of our data to gain better understanding.\n",
    "\n",
    "Let's load our dataset and use some more pandas methods."
   ]
  },
  {
   "cell_type": "code",
   "execution_count": null,
   "id": "b5441a69",
   "metadata": {},
   "outputs": [],
   "source": [
    "import pandas as pd\n",
    "\n",
    "df = pd.read_csv(\"stroke_data.csv\")\n",
    "df.columns"
   ]
  },
  {
   "cell_type": "markdown",
   "id": "53dfab87",
   "metadata": {},
   "source": [
    "First, we will plot data distributions, which involves counting (frequencies) of samples for a given variable.\n",
    "\n",
    "Let's use the `plot` method in pandas to plot a histogram of the age variable using the `kind` argument. This method requires the matplotlib module, so we will load that before we run `plot`."
   ]
  },
  {
   "cell_type": "code",
   "execution_count": null,
   "id": "c011331f",
   "metadata": {
    "scrolled": false
   },
   "outputs": [],
   "source": [
    "import matplotlib.pyplot as plt\n",
    "\n",
    "df['age'].plot(kind='hist')"
   ]
  },
  {
   "cell_type": "markdown",
   "id": "3799c0e5",
   "metadata": {},
   "source": [
    "We can do this for categorical variables as well. This involves counting the values for each category first then using that data in the plot. \n",
    "\n",
    "We have to modify the `kind` argument to use `bar` to plot a bar chart depitcing the counts for the `gender` variable categories."
   ]
  },
  {
   "cell_type": "code",
   "execution_count": null,
   "id": "b3c49613",
   "metadata": {
    "scrolled": true
   },
   "outputs": [],
   "source": [
    "df['gender'].value_counts().plot(kind='bar')"
   ]
  },
  {
   "cell_type": "markdown",
   "id": "dda64a40",
   "metadata": {},
   "source": [
    "We can also compare two variables and check for relationships that may exist between them. In pandas we use the `plot` method. Let's plot a scatter plot of age vs avg_glucose_level. "
   ]
  },
  {
   "cell_type": "code",
   "execution_count": null,
   "id": "35e8db46",
   "metadata": {
    "scrolled": true
   },
   "outputs": [],
   "source": [
    "df.plot(kind='scatter', x='age', y='avg_glucose_level')"
   ]
  },
  {
   "cell_type": "markdown",
   "id": "4103a488",
   "metadata": {},
   "source": [
    "These plots are excellent for quickly generating a visual to understand the data better. But for publication/report quality plots we can do better. So let's check out the seaborn module.\n",
    "\n",
    "### Seaborn\n",
    "Seaborn leverages matplotlib to draw \"attractive and informative statistical graphics\".\n",
    "\n",
    "Let's import seaborn and use the `displot` function to generate a distribution plot. Seaborn works harmoniously with pandas dataframes to create the plots. We will select the age variable to run this analysis on (same as the pandas example)."
   ]
  },
  {
   "cell_type": "code",
   "execution_count": null,
   "id": "3e0f0346",
   "metadata": {
    "scrolled": false
   },
   "outputs": [],
   "source": [
    "import seaborn as sns\n",
    "\n",
    "sns.displot(data=df, x='age')"
   ]
  },
  {
   "cell_type": "markdown",
   "id": "afbdd562",
   "metadata": {},
   "source": [
    "With continuous variables, the histogram requires the data to be binned. We can modify the bin size for the `displot` function by using the `binwidth` argument. For the age variable, lets use a bin size of 5."
   ]
  },
  {
   "cell_type": "code",
   "execution_count": null,
   "id": "059061a5",
   "metadata": {
    "scrolled": true
   },
   "outputs": [],
   "source": [
    "sns.displot(data=df, x='age', binwidth=5)"
   ]
  },
  {
   "cell_type": "markdown",
   "id": "d653d57d",
   "metadata": {},
   "source": [
    "We can also set the number of bins, as opposed to the bin size. We do this using the `bins` argument."
   ]
  },
  {
   "cell_type": "code",
   "execution_count": null,
   "id": "3712eb09",
   "metadata": {
    "scrolled": true
   },
   "outputs": [],
   "source": [
    "sns.displot(data=df, x='age', bins=10)"
   ]
  },
  {
   "cell_type": "markdown",
   "id": "a1953e51",
   "metadata": {},
   "source": [
    "If we want to plot the count for every single value in the range of ages (no bins) we can use the `discrete` argument."
   ]
  },
  {
   "cell_type": "code",
   "execution_count": null,
   "id": "bb955d53",
   "metadata": {
    "scrolled": false
   },
   "outputs": [],
   "source": [
    "sns.displot(data=df, x='age', discrete=True)"
   ]
  },
  {
   "cell_type": "markdown",
   "id": "f344e13e",
   "metadata": {},
   "source": [
    "We can add more information to a single plot by using the `hue` argument. We will separate and color the age data by gender."
   ]
  },
  {
   "cell_type": "code",
   "execution_count": null,
   "id": "d2dc781e",
   "metadata": {
    "scrolled": true
   },
   "outputs": [],
   "source": [
    "sns.displot(data=df, x='age', hue='gender')"
   ]
  },
  {
   "cell_type": "markdown",
   "id": "3c92dae2",
   "metadata": {},
   "source": [
    "While the histogram is a very nice representation of the distribution, there are other methods to approximate and visualize the distribution. Kernel density esitmate plots a \"smoothed\" distribution. We can use the 'kde' in the `kind` argument."
   ]
  },
  {
   "cell_type": "code",
   "execution_count": null,
   "id": "e6b31870",
   "metadata": {
    "scrolled": true
   },
   "outputs": [],
   "source": [
    "sns.displot(data=df, x='age', kind='kde')"
   ]
  },
  {
   "cell_type": "markdown",
   "id": "63a55f66",
   "metadata": {},
   "source": [
    "We can stack that with the histogram by running `kind='hist'` and `kde=True`."
   ]
  },
  {
   "cell_type": "code",
   "execution_count": null,
   "id": "a364854c",
   "metadata": {},
   "outputs": [],
   "source": [
    "sns.displot(data=df, x='age', kde=True)"
   ]
  },
  {
   "cell_type": "markdown",
   "id": "a838db70",
   "metadata": {},
   "source": [
    "Unlike the pandas plot method, seaborn allows us to plot univariate distributions of categorical variables using the `displot` function. \n",
    "\n",
    "We will draw a \"histogram\" using the gender variable."
   ]
  },
  {
   "cell_type": "code",
   "execution_count": null,
   "id": "5c0568a1",
   "metadata": {},
   "outputs": [],
   "source": [
    "sns.displot(data=df, x='gender', kind='hist')"
   ]
  },
  {
   "cell_type": "markdown",
   "id": "6a4def4e",
   "metadata": {},
   "source": [
    "If we want to look at the frequencies for a categorical variable using a proper barplot then we will have to use the `catplot` function. We will set the `kind` argument with `count` to generate a frequency plot.\n",
    "\n",
    "This is exactly what we did with the pandas `plot` function, but we do not need to preprocess the data, seaborn does it for us."
   ]
  },
  {
   "cell_type": "code",
   "execution_count": null,
   "id": "c6bab022",
   "metadata": {},
   "outputs": [],
   "source": [
    "sns.catplot(data=df, x='gender', kind='count')"
   ]
  },
  {
   "cell_type": "markdown",
   "id": "6e494b66",
   "metadata": {},
   "source": [
    "We can use the `catplot` function to look at relationships between categorical and continuous variables. One such plot is the boxplot."
   ]
  },
  {
   "cell_type": "code",
   "execution_count": null,
   "id": "c2ef5420",
   "metadata": {
    "scrolled": true
   },
   "outputs": [],
   "source": [
    "sns.catplot(data=df, x='gender', y='age', kind='box')"
   ]
  },
  {
   "cell_type": "markdown",
   "id": "aece281d",
   "metadata": {},
   "source": [
    "Boxplots provide a wealth of information regarding the distribution of samples with regard to a continuous and categorical variable. \n",
    "\n",
    "The middle line in the box represents the median (50th percentile) of the data, while the bottom and top edges of the box are the first, Q1, and third quartiles, Q3, (25th percentile and 75 percentile), respectively. The \"whiskers\" are the lines coming out of the top and bottom of the box. These represent the minimum and maximum calculated at Q1 - 1.5 * IQR and Q3 + 1.5 * IQR, respectively. IQR is the interquartile range, which is Q3 - Q1. Any outliers appear as points either above the maximum or below the minimum."
   ]
  },
  {
   "cell_type": "markdown",
   "id": "b10c5212",
   "metadata": {},
   "source": [
    "If we want to look at relationships between two categorical variables, usually we would look at a crosstab (or contingency table). This shows the counts of samples across multiple variables.\n",
    "\n",
    "This is easily done with pandas. We will show a simple bivariate crosstab using the `crosstab` function."
   ]
  },
  {
   "cell_type": "code",
   "execution_count": null,
   "id": "a2f918bd",
   "metadata": {},
   "outputs": [],
   "source": [
    "pd.crosstab(df['hypertension'], df['heart_disease'])"
   ]
  },
  {
   "cell_type": "markdown",
   "id": "5a249f79",
   "metadata": {},
   "source": [
    "This is very useful, but we can go a step further and plot this information in a heatmap. This type of plot will depict the frequency information based on a color gradient.\n",
    "\n",
    "Below, the lighter collor refers to a higher frequency and darker means lower."
   ]
  },
  {
   "cell_type": "code",
   "execution_count": null,
   "id": "d213447e",
   "metadata": {
    "scrolled": true
   },
   "outputs": [],
   "source": [
    "sns.heatmap(pd.crosstab(df['hypertension'], df['heart_disease']))"
   ]
  },
  {
   "cell_type": "markdown",
   "id": "6bdf4690",
   "metadata": {},
   "source": [
    "We can make this plot even better by adding the counts directly to the plot using the `annot` argument."
   ]
  },
  {
   "cell_type": "code",
   "execution_count": null,
   "id": "a8a5fc27",
   "metadata": {
    "scrolled": true
   },
   "outputs": [],
   "source": [
    "sns.heatmap(pd.crosstab(df['hypertension'], df['heart_disease']), annot=True)"
   ]
  },
  {
   "cell_type": "markdown",
   "id": "9c8b654d",
   "metadata": {},
   "source": [
    "Or calculate the frequency in pandas `crosstab` and plot the frequencies."
   ]
  },
  {
   "cell_type": "code",
   "execution_count": null,
   "id": "8f79ed04",
   "metadata": {},
   "outputs": [],
   "source": [
    "sns.heatmap(pd.crosstab(df['hypertension'], df['heart_disease'], normalize=True), annot=True)"
   ]
  },
  {
   "cell_type": "markdown",
   "id": "8fca94c3",
   "metadata": {},
   "source": [
    "We also want to plot continuous variables with respect to other continuous variables. Like with pandas, we can do this with seaborn. To do this we use the `relplot` function.\n",
    "\n",
    "Here we will generate a scatter plot of age vs. avg_glucose_level."
   ]
  },
  {
   "cell_type": "code",
   "execution_count": null,
   "id": "168068aa",
   "metadata": {
    "scrolled": true
   },
   "outputs": [],
   "source": [
    "sns.relplot(data=df, x='age', y='avg_glucose_level')"
   ]
  },
  {
   "cell_type": "markdown",
   "id": "a34ef2bc",
   "metadata": {},
   "source": [
    "We can layer a lot of information to these sctterplots by incorporating color cahnge based on another variable. We do this by using the `hue` argument.\n",
    "\n",
    "Below we will plot age vs. avg_glucose_level and have a specific color denoting whether the patient has hyptertension or not."
   ]
  },
  {
   "cell_type": "code",
   "execution_count": null,
   "id": "7078ac7d",
   "metadata": {
    "scrolled": false
   },
   "outputs": [],
   "source": [
    "sns.relplot(data=df, x='age', y='avg_glucose_level', hue='hypertension')"
   ]
  },
  {
   "cell_type": "markdown",
   "id": "f4d137ab",
   "metadata": {},
   "source": [
    "Moreover, we can change the `style` of the points based on another variable. We will add heart_disease to the scatterplot."
   ]
  },
  {
   "cell_type": "code",
   "execution_count": null,
   "id": "2edcf209",
   "metadata": {
    "scrolled": true
   },
   "outputs": [],
   "source": [
    "sns.relplot(data=df, x='age', y='avg_glucose_level', hue='hypertension', style='heart_disease')"
   ]
  },
  {
   "cell_type": "markdown",
   "id": "e780d01e",
   "metadata": {},
   "source": [
    "Lastly, we can change the `size` of the points based on yet another variable. Let's use a continuous variable such as bmi."
   ]
  },
  {
   "cell_type": "code",
   "execution_count": null,
   "id": "17460b0d",
   "metadata": {
    "scrolled": true
   },
   "outputs": [],
   "source": [
    "sns.relplot(data=df, x='age', y='avg_glucose_level', hue='hypertension', style='heart_disease', size='bmi')"
   ]
  },
  {
   "cell_type": "markdown",
   "id": "2bd2442c",
   "metadata": {},
   "source": [
    "While adding all of this information into a single plot maybe helpful, it may not always be the best plot for portraying the information you need.\n",
    "\n",
    "Based on this scatterplot we can see there is not a linear relationship between avg_glucose_level and age, but hypertension and heart_disease might be related to the two continuous variables. So rather than looking at the scatterplot, can we look at the density of samples at certain values and separate them by the two categorical variables.\n",
    "\n",
    "We can do this by using `displot` again, but using two variables."
   ]
  },
  {
   "cell_type": "code",
   "execution_count": null,
   "id": "f9e1e754",
   "metadata": {},
   "outputs": [],
   "source": [
    "sns.displot(data=df, x='age', y='avg_glucose_level')"
   ]
  },
  {
   "cell_type": "markdown",
   "id": "a9a6894d",
   "metadata": {},
   "source": [
    "Breaking this down by hypertension..."
   ]
  },
  {
   "cell_type": "code",
   "execution_count": null,
   "id": "acefdd29",
   "metadata": {},
   "outputs": [],
   "source": [
    "sns.displot(data=df, x='age', y='avg_glucose_level',hue='hypertension')"
   ]
  },
  {
   "cell_type": "markdown",
   "id": "b827c997",
   "metadata": {},
   "source": [
    "We can also plot this using the kde method..."
   ]
  },
  {
   "cell_type": "code",
   "execution_count": null,
   "id": "8110a1af",
   "metadata": {
    "scrolled": true
   },
   "outputs": [],
   "source": [
    "sns.displot(data=df, x='age', y='avg_glucose_level',hue='hypertension',kind='kde')"
   ]
  },
  {
   "cell_type": "markdown",
   "id": "98fbd473",
   "metadata": {},
   "source": [
    "And again with heart_disease..."
   ]
  },
  {
   "cell_type": "code",
   "execution_count": null,
   "id": "67fe86bc",
   "metadata": {},
   "outputs": [],
   "source": [
    "sns.displot(data=df, x='age', y='avg_glucose_level',hue='heart_disease',kind='kde')"
   ]
  },
  {
   "cell_type": "markdown",
   "id": "43289e4e",
   "metadata": {},
   "source": [
    "Lastly, if we want to use these plots in publications or presentations we will need to save or export them somehow. We can do this using a function from matplotlib called `savefig`. This function will save your current plot to a filename of your choosing. The function will also automatically know what file type based on the file extension given.\n",
    "\n",
    "We will save our plot as \"plot.png\"."
   ]
  },
  {
   "cell_type": "code",
   "execution_count": null,
   "id": "136412f4",
   "metadata": {},
   "outputs": [],
   "source": [
    "plt.savefig(\"plot.png\")"
   ]
  }
 ],
 "metadata": {
  "kernelspec": {
   "display_name": "Python 3 (ipykernel)",
   "language": "python",
   "name": "python3"
  },
  "language_info": {
   "codemirror_mode": {
    "name": "ipython",
    "version": 3
   },
   "file_extension": ".py",
   "mimetype": "text/x-python",
   "name": "python",
   "nbconvert_exporter": "python",
   "pygments_lexer": "ipython3",
   "version": "3.10.9"
  }
 },
 "nbformat": 4,
 "nbformat_minor": 5
}
