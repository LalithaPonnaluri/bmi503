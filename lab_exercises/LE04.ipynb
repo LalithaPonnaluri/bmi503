{
 "cells": [
  {
   "cell_type": "markdown",
   "id": "5521a2da",
   "metadata": {},
   "source": [
    "# Lab Exercise 04\n",
    "---"
   ]
  },
  {
   "cell_type": "markdown",
   "id": "d788dd41",
   "metadata": {},
   "source": [
    "## Pandas\n",
    "\n",
    "Pandas is a very useful python package for data scientists and biomedical informaticians.\n",
    "Enables programmers to load, manipulate, clean, and analyze large datasets\n",
    "\n",
    "Use the `import` keyword to load the pandas module. Use the `as` keyword to set an alias for the module."
   ]
  },
  {
   "cell_type": "code",
   "execution_count": null,
   "id": "36ffed9e",
   "metadata": {},
   "outputs": [],
   "source": [
    "import pandas as pd"
   ]
  },
  {
   "cell_type": "markdown",
   "id": "649a2695",
   "metadata": {},
   "source": [
    "## Pandas Series\n",
    "\n",
    "Series is one of two Pandas data structures.\n",
    "\n",
    "Series is a 1 dimensional array of data, similar to a column in a data table\n",
    "\n"
   ]
  },
  {
   "cell_type": "code",
   "execution_count": null,
   "id": "85e0c47d",
   "metadata": {},
   "outputs": [],
   "source": [
    "l = [1,2,3,4]\n",
    "s = pd.Series(l)\n",
    "print(s)"
   ]
  },
  {
   "cell_type": "markdown",
   "id": "813d7db5",
   "metadata": {},
   "source": [
    "Each item in the Series has a corresponding index. You can set the index using the `index` argument.\n"
   ]
  },
  {
   "cell_type": "code",
   "execution_count": null,
   "id": "784eb6d9",
   "metadata": {},
   "outputs": [],
   "source": [
    "l = [1,2,3,4]\n",
    "s = pd.Series(l, index=['a','b','c','d'])\n",
    "print(s)"
   ]
  },
  {
   "cell_type": "markdown",
   "id": "00ef31ff",
   "metadata": {},
   "source": [
    "## Pandas DataFrame\n",
    "\n",
    "Dataframe is a 2 dimensional array of data, similar to a table with multiple rows and columns\n"
   ]
  },
  {
   "cell_type": "code",
   "execution_count": null,
   "id": "78b24d1f",
   "metadata": {},
   "outputs": [],
   "source": [
    "l = [[1,2,3],[2,3,4]]\n",
    "df = pd.DataFrame(l)\n",
    "print(df)"
   ]
  },
  {
   "cell_type": "markdown",
   "id": "0dfee837",
   "metadata": {},
   "source": [
    "Both the index and comlumn names can be defined by the user using `index` and `column` keywords."
   ]
  },
  {
   "cell_type": "code",
   "execution_count": null,
   "id": "bbed502e",
   "metadata": {},
   "outputs": [],
   "source": [
    "l = [[1,2,3],[2,3,4]]\n",
    "df = pd.DataFrame(l,index=['a','b'], columns=['one','two','three'])\n",
    "print(df)"
   ]
  },
  {
   "cell_type": "markdown",
   "id": "442bc114",
   "metadata": {},
   "source": [
    "## Load datasets\n",
    "\n",
    "Load data using Pandas functions. Which function used depends on the file format. .csv (comma separated values) is a common format for flat data files.\n",
    "Use the `read_csv()` function to load data from this file type.\n"
   ]
  },
  {
   "cell_type": "code",
   "execution_count": null,
   "id": "73692967",
   "metadata": {},
   "outputs": [],
   "source": [
    "df = pd.read_csv(\"diabetes.csv\")\n",
    "print(df)"
   ]
  },
  {
   "cell_type": "markdown",
   "id": "be947777",
   "metadata": {},
   "source": [
    "JSON is another popular file format for large datasets. Load this data using `read_json()`."
   ]
  },
  {
   "cell_type": "code",
   "execution_count": null,
   "id": "442fe767",
   "metadata": {},
   "outputs": [],
   "source": [
    "df = pd.read_json(\"diabetes.json\")\n",
    "print(df)"
   ]
  },
  {
   "cell_type": "markdown",
   "id": "0144f91f",
   "metadata": {},
   "source": [
    "To see what the JSON file format looks like you can read the file in and print it to line. You will notice it looks similar to a dictionary."
   ]
  },
  {
   "cell_type": "code",
   "execution_count": null,
   "id": "25afd8c7",
   "metadata": {},
   "outputs": [],
   "source": [
    "with open(\"diabetes.json\") as f:\n",
    "    print(f.read())"
   ]
  },
  {
   "cell_type": "markdown",
   "id": "ef211604",
   "metadata": {},
   "source": [
    "## Saving dataframes\n",
    "\n",
    "You can write DataFrames to file using `to_csv()` or `to_json()`."
   ]
  },
  {
   "cell_type": "code",
   "execution_count": null,
   "id": "8a450f36",
   "metadata": {},
   "outputs": [],
   "source": [
    "df = pd.read_csv(\"diabetes.csv\")\n",
    "df.to_csv(\"test04.csv\")"
   ]
  },
  {
   "cell_type": "code",
   "execution_count": null,
   "id": "46872d72",
   "metadata": {},
   "outputs": [],
   "source": [
    "with open(\"test04.csv\") as f:\n",
    "    print(f.read())"
   ]
  },
  {
   "cell_type": "markdown",
   "id": "ed62757b",
   "metadata": {},
   "source": [
    "You can change the delimiter (character that separates each value in the file). For csv, the default is a comma (,), but you can change it to any character using the `sep` argument."
   ]
  },
  {
   "cell_type": "code",
   "execution_count": null,
   "id": "d081ddee",
   "metadata": {},
   "outputs": [],
   "source": [
    "df = pd.read_csv(\"diabetes.csv\")\n",
    "df.to_csv(\"test04.tsv\", sep='\\t')"
   ]
  },
  {
   "cell_type": "code",
   "execution_count": null,
   "id": "f373d3e4",
   "metadata": {},
   "outputs": [],
   "source": [
    "with open(\"test04.tsv\") as f:\n",
    "    print(f.read())"
   ]
  },
  {
   "cell_type": "markdown",
   "id": "f3605ec9",
   "metadata": {},
   "source": [
    "## Selecting data\n",
    "\n",
    "View all column names and index names using `columns` and `index` attributes."
   ]
  },
  {
   "cell_type": "code",
   "execution_count": null,
   "id": "a409e0fe",
   "metadata": {},
   "outputs": [],
   "source": [
    "df = pd.read_csv(\"diabetes.csv\")\n",
    "df.columns"
   ]
  },
  {
   "cell_type": "code",
   "execution_count": null,
   "id": "c408ab25",
   "metadata": {},
   "outputs": [],
   "source": [
    "df = pd.read_csv(\"diabetes.csv\")\n",
    "df.index"
   ]
  },
  {
   "cell_type": "markdown",
   "id": "51c448c4",
   "metadata": {},
   "source": [
    "You can select specific rows, columns, or cells in the dataframe using the `.loc[]` attirbute.\n",
    "First, let's select an entire row."
   ]
  },
  {
   "cell_type": "code",
   "execution_count": null,
   "id": "be3dfb19",
   "metadata": {},
   "outputs": [],
   "source": [
    "df = pd.read_csv(\"diabetes.csv\")\n",
    "df.loc[0]"
   ]
  },
  {
   "cell_type": "markdown",
   "id": "2f592bca",
   "metadata": {},
   "source": [
    "Or an entire column. Similar to splices of arrays, the colon, `:`, selects all of the items (rows in this case). The second item in the `[]` is the column name."
   ]
  },
  {
   "cell_type": "code",
   "execution_count": null,
   "id": "88e7362a",
   "metadata": {},
   "outputs": [],
   "source": [
    "df = pd.read_csv(\"diabetes.csv\")\n",
    "df.loc[:,'Pregnancies']"
   ]
  },
  {
   "cell_type": "markdown",
   "id": "9f5dad01",
   "metadata": {},
   "source": [
    "We can also select multiple columns or indices."
   ]
  },
  {
   "cell_type": "code",
   "execution_count": null,
   "id": "3f0cf668",
   "metadata": {},
   "outputs": [],
   "source": [
    "df = pd.read_csv(\"diabetes.csv\")\n",
    "df.loc[:,['Pregnancies','Glucose']]"
   ]
  },
  {
   "cell_type": "markdown",
   "id": "585ab3b8",
   "metadata": {},
   "source": [
    "Easier way to select a column is using the column name with square brackets."
   ]
  },
  {
   "cell_type": "code",
   "execution_count": null,
   "id": "4440e86b",
   "metadata": {},
   "outputs": [],
   "source": [
    "df = pd.read_csv(\"diabetes.csv\")\n",
    "df['Pregnancies']"
   ]
  },
  {
   "cell_type": "markdown",
   "id": "3b77de8a",
   "metadata": {},
   "source": [
    "Or using the column name as an attribute."
   ]
  },
  {
   "cell_type": "code",
   "execution_count": null,
   "id": "122d9004",
   "metadata": {},
   "outputs": [],
   "source": [
    "df = pd.read_csv(\"diabetes.csv\")\n",
    "df.Pregnancies"
   ]
  },
  {
   "cell_type": "markdown",
   "id": "a3efec04",
   "metadata": {},
   "source": [
    "Now let's select just one item/cell in the dataframe."
   ]
  },
  {
   "cell_type": "code",
   "execution_count": null,
   "id": "e29dffe4",
   "metadata": {},
   "outputs": [],
   "source": [
    "df = pd.read_csv(\"diabetes.csv\")\n",
    "df.loc[2,'Pregnancies']"
   ]
  },
  {
   "cell_type": "markdown",
   "id": "ad8fbb20",
   "metadata": {},
   "source": [
    "The attribute `.iloc[]` is similar to loc, but uses the positional label for index and columns. To get the same value that the line `df.loc[2,'Pregnancies']` got us, we will have to use the number index for each."
   ]
  },
  {
   "cell_type": "code",
   "execution_count": null,
   "id": "e85240ca",
   "metadata": {
    "scrolled": true
   },
   "outputs": [],
   "source": [
    "df.iloc[2,0]"
   ]
  },
  {
   "cell_type": "markdown",
   "id": "ac8c0197",
   "metadata": {},
   "source": [
    "You can also select all rows where a certain condition is met."
   ]
  },
  {
   "cell_type": "code",
   "execution_count": null,
   "id": "e8f8dea5",
   "metadata": {
    "scrolled": false
   },
   "outputs": [],
   "source": [
    "df = pd.read_csv(\"diabetes.csv\")\n",
    "df.loc[(df['Pregnancies']==3)]"
   ]
  },
  {
   "cell_type": "code",
   "execution_count": null,
   "id": "3e7834cd",
   "metadata": {},
   "outputs": [],
   "source": [
    "df = pd.read_csv(\"diabetes.csv\")\n",
    "df.loc[(df['BMI']>=39.9)]"
   ]
  },
  {
   "cell_type": "markdown",
   "id": "2305aa34",
   "metadata": {},
   "source": [
    "## Checking your data\n",
    "\n",
    "You can view the first N lines of your dataframe using the `head()` method. "
   ]
  },
  {
   "cell_type": "code",
   "execution_count": null,
   "id": "4d14ae31",
   "metadata": {},
   "outputs": [],
   "source": [
    "df = pd.read_csv(\"diabetes.csv\")\n",
    "df.head()"
   ]
  },
  {
   "cell_type": "markdown",
   "id": "969a4953",
   "metadata": {},
   "source": [
    "You can modify how many rows are outputted by passing an integer argument to `head()`."
   ]
  },
  {
   "cell_type": "code",
   "execution_count": null,
   "id": "c24755af",
   "metadata": {},
   "outputs": [],
   "source": [
    "df = pd.read_csv(\"diabetes.csv\")\n",
    "df.head(10)"
   ]
  },
  {
   "cell_type": "markdown",
   "id": "d3e2f29a",
   "metadata": {},
   "source": [
    "`tail()` gives the last N lines. Same argument applies as with `head()`."
   ]
  },
  {
   "cell_type": "code",
   "execution_count": null,
   "id": "e6e67999",
   "metadata": {
    "scrolled": true
   },
   "outputs": [],
   "source": [
    "df = pd.read_csv(\"diabetes.csv\")\n",
    "df.tail()"
   ]
  },
  {
   "cell_type": "code",
   "execution_count": null,
   "id": "9e1d11bf",
   "metadata": {},
   "outputs": [],
   "source": [
    "df = pd.read_csv(\"diabetes.csv\")\n",
    "df.tail(10)"
   ]
  },
  {
   "cell_type": "markdown",
   "id": "0ad47e92",
   "metadata": {},
   "source": [
    "Get the length (number of rows) of the dataframe using the `len()` function."
   ]
  },
  {
   "cell_type": "code",
   "execution_count": null,
   "id": "6d3b89d6",
   "metadata": {},
   "outputs": [],
   "source": [
    "df = pd.read_csv(\"diabetes.csv\")\n",
    "len(df)"
   ]
  },
  {
   "cell_type": "markdown",
   "id": "2ad0d703",
   "metadata": {},
   "source": [
    "The `info()` method gives in-depth information about the dataframe."
   ]
  },
  {
   "cell_type": "code",
   "execution_count": null,
   "id": "795a8efc",
   "metadata": {},
   "outputs": [],
   "source": [
    "df = pd.read_csv(\"diabetes.csv\")\n",
    "df.info()"
   ]
  },
  {
   "cell_type": "markdown",
   "id": "b2638d00",
   "metadata": {},
   "source": [
    "## Data Cleaning\n",
    "\n",
    "We can remove missing data using the `dropna()` method. This will identify rows that have Null values and drop those rows from the dataframe."
   ]
  },
  {
   "cell_type": "code",
   "execution_count": null,
   "id": "2f637082",
   "metadata": {},
   "outputs": [],
   "source": [
    "df = pd.read_csv(\"diabetes.csv\")\n",
    "print(f\"Original df has {len(df)} samples.\")\n",
    "\n",
    "df = df.dropna()\n",
    "print(f\"Cleaned df has {len(df)} samples.\")"
   ]
  },
  {
   "cell_type": "markdown",
   "id": "dc579fdf",
   "metadata": {},
   "source": [
    "`dropna()` returns a modified dataframe, so we much reassign the varialbe `df` to get the cleaned dataframe. Use the `inplace` argument to modified the original dataframe."
   ]
  },
  {
   "cell_type": "code",
   "execution_count": null,
   "id": "a38f9839",
   "metadata": {},
   "outputs": [],
   "source": [
    "df = pd.read_csv(\"diabetes.csv\")\n",
    "print(f\"Original df has {len(df)} samples.\")\n",
    "\n",
    "df.dropna(inplace=True)\n",
    "print(f\"Cleaned df has {len(df)} samples.\")"
   ]
  },
  {
   "cell_type": "markdown",
   "id": "edae862e",
   "metadata": {},
   "source": [
    "Rather than remove the samples (rows) with missing data, you can replace the missing values with a user defined value using the `fillna()` method."
   ]
  },
  {
   "cell_type": "code",
   "execution_count": null,
   "id": "c5442cee",
   "metadata": {},
   "outputs": [],
   "source": [
    "df = pd.read_csv(\"diabetes.csv\")\n",
    "df.loc[2,'BloodPressure']"
   ]
  },
  {
   "cell_type": "code",
   "execution_count": null,
   "id": "365c9f02",
   "metadata": {},
   "outputs": [],
   "source": [
    "df.fillna(120, inplace=True)\n",
    "df.loc[2,'BloodPressure']"
   ]
  },
  {
   "cell_type": "markdown",
   "id": "707fa9a7",
   "metadata": {},
   "source": [
    "Some datasets may have redundant data, which can cause bias in our analyses. We can remove these duplicates quickly using pandas. Use the `duplicated()` method to identify the rows that are duplicates. Then use the `drop_duplicates()` method to remove the redundant rows (keeping the first instance)."
   ]
  },
  {
   "cell_type": "code",
   "execution_count": null,
   "id": "dc4faac8",
   "metadata": {},
   "outputs": [],
   "source": [
    "df = pd.read_csv(\"diabetes.csv\")\n",
    "df.duplicated()"
   ]
  },
  {
   "cell_type": "markdown",
   "id": "dcd41d21",
   "metadata": {},
   "source": [
    "We can use the `drop()` method to remove the rows that are False to give us the indicies where the duplicate rows exist."
   ]
  },
  {
   "cell_type": "code",
   "execution_count": null,
   "id": "e6b1d133",
   "metadata": {},
   "outputs": [],
   "source": [
    "df = pd.read_csv(\"diabetes.csv\")\n",
    "df_dup = df.duplicated()\n",
    "for i in df_dup.index:\n",
    "    if df_dup.loc[i] == False:\n",
    "        df_dup.drop(i,inplace=True)\n",
    "print(df_dup)"
   ]
  },
  {
   "cell_type": "markdown",
   "id": "f88f9462",
   "metadata": {},
   "source": [
    "If you want to cahnge any value in the dataset you can do so with the `loc[]` attirbute and reassigning the item like a variable."
   ]
  },
  {
   "cell_type": "code",
   "execution_count": null,
   "id": "8604b181",
   "metadata": {
    "scrolled": true
   },
   "outputs": [],
   "source": [
    "df = pd.read_csv(\"diabetes.csv\")\n",
    "print(df.loc[2,'BloodPressure'])\n",
    "df.loc[2,'BloodPressure'] = 120\n",
    "print(df.loc[2,'BloodPressure'])"
   ]
  },
  {
   "cell_type": "markdown",
   "id": "f2c627a1",
   "metadata": {},
   "source": [
    "## Some other functions and methods\n",
    "\n",
    "You can use `max()` and `min()` methods to find the maximum and minimum vlaues for a dataframe or specific columnn."
   ]
  },
  {
   "cell_type": "code",
   "execution_count": null,
   "id": "b6588e36",
   "metadata": {},
   "outputs": [],
   "source": [
    "df = pd.read_csv(\"diabetes.csv\")\n",
    "df.min()"
   ]
  },
  {
   "cell_type": "code",
   "execution_count": null,
   "id": "e214a597",
   "metadata": {},
   "outputs": [],
   "source": [
    "df = pd.read_csv(\"diabetes.csv\")\n",
    "df.Pregnancies.min()"
   ]
  },
  {
   "cell_type": "code",
   "execution_count": null,
   "id": "8cd6341d",
   "metadata": {},
   "outputs": [],
   "source": [
    "df = pd.read_csv(\"diabetes.csv\")\n",
    "df['Pregnancies'].max()"
   ]
  },
  {
   "cell_type": "markdown",
   "id": "7a382532",
   "metadata": {},
   "source": [
    "Can also calculate descriptive statistics quickly using `mean()`, `median()`, and `mode()`."
   ]
  },
  {
   "cell_type": "code",
   "execution_count": null,
   "id": "b492e1f1",
   "metadata": {},
   "outputs": [],
   "source": [
    "df = pd.read_csv(\"diabetes.csv\")\n",
    "df['Pregnancies'].mean()"
   ]
  },
  {
   "cell_type": "code",
   "execution_count": null,
   "id": "2d1f85e8",
   "metadata": {},
   "outputs": [],
   "source": [
    "df = pd.read_csv(\"diabetes.csv\")\n",
    "df['Pregnancies'].median()"
   ]
  },
  {
   "cell_type": "code",
   "execution_count": null,
   "id": "393631da",
   "metadata": {},
   "outputs": [],
   "source": [
    "df = pd.read_csv(\"diabetes.csv\")\n",
    "df['Pregnancies'].mode()"
   ]
  }
 ],
 "metadata": {
  "kernelspec": {
   "display_name": "Python 3 (ipykernel)",
   "language": "python",
   "name": "python3"
  },
  "language_info": {
   "codemirror_mode": {
    "name": "ipython",
    "version": 3
   },
   "file_extension": ".py",
   "mimetype": "text/x-python",
   "name": "python",
   "nbconvert_exporter": "python",
   "pygments_lexer": "ipython3",
   "version": "3.10.9"
  }
 },
 "nbformat": 4,
 "nbformat_minor": 5
}
